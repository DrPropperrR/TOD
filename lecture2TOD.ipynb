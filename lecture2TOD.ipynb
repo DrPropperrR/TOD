{
  "nbformat": 4,
  "nbformat_minor": 0,
  "metadata": {
    "colab": {
      "provenance": []
    },
    "kernelspec": {
      "name": "python3",
      "display_name": "Python 3"
    },
    "language_info": {
      "name": "python"
    }
  },
  "cells": [
    {
      "cell_type": "code",
      "execution_count": 1,
      "metadata": {
        "id": "LADeeCYQRv8V"
      },
      "outputs": [],
      "source": [
        "import numpy as np"
      ]
    },
    {
      "cell_type": "code",
      "source": [
        "# создадим массив numpy\n",
        "a = np.array([0, 1, 2, 3, 4, 5, 6, 7, 8])\n",
        "a"
      ],
      "metadata": {
        "colab": {
          "base_uri": "https://localhost:8080/"
        },
        "id": "JdEhLgNxSWK7",
        "outputId": "4fb229ba-a7bc-4fa3-914d-51c0c0375f08"
      },
      "execution_count": 2,
      "outputs": [
        {
          "output_type": "execute_result",
          "data": {
            "text/plain": [
              "array([0, 1, 2, 3, 4, 5, 6, 7, 8])"
            ]
          },
          "metadata": {},
          "execution_count": 2
        }
      ]
    },
    {
      "cell_type": "code",
      "source": [
        "# выведем нулевой элемент данного массива\n",
        "a[0]"
      ],
      "metadata": {
        "colab": {
          "base_uri": "https://localhost:8080/"
        },
        "id": "rKZ8vEAbSv1B",
        "outputId": "7fb0b193-45be-411d-98ab-626ad4cd766b"
      },
      "execution_count": 3,
      "outputs": [
        {
          "output_type": "execute_result",
          "data": {
            "text/plain": [
              "0"
            ]
          },
          "metadata": {},
          "execution_count": 3
        }
      ]
    },
    {
      "cell_type": "code",
      "source": [
        "# заменим значение 1ого элемента массива\n",
        "a[1] = 20\n",
        "a"
      ],
      "metadata": {
        "colab": {
          "base_uri": "https://localhost:8080/"
        },
        "id": "4shGr87-TNPX",
        "outputId": "afd32136-7283-4ae0-a354-90267fcecb9e"
      },
      "execution_count": 4,
      "outputs": [
        {
          "output_type": "execute_result",
          "data": {
            "text/plain": [
              "array([ 0, 20,  2,  3,  4,  5,  6,  7,  8])"
            ]
          },
          "metadata": {},
          "execution_count": 4
        }
      ]
    },
    {
      "cell_type": "code",
      "source": [
        "# обратимся к последнему элементу массива\n",
        "a[-1]"
      ],
      "metadata": {
        "colab": {
          "base_uri": "https://localhost:8080/"
        },
        "id": "uHRqFHIBUog_",
        "outputId": "34ecb4bc-1600-4b8d-ac7f-e112a75d6d0f"
      },
      "execution_count": 5,
      "outputs": [
        {
          "output_type": "execute_result",
          "data": {
            "text/plain": [
              "8"
            ]
          },
          "metadata": {},
          "execution_count": 5
        }
      ]
    },
    {
      "cell_type": "code",
      "source": [
        "# посмотрим размерность массива a\n",
        "a.shape"
      ],
      "metadata": {
        "colab": {
          "base_uri": "https://localhost:8080/"
        },
        "id": "LbmS9AVLVo1y",
        "outputId": "a80ac743-7461-491d-9101-1486c53e73bf"
      },
      "execution_count": 6,
      "outputs": [
        {
          "output_type": "execute_result",
          "data": {
            "text/plain": [
              "(9,)"
            ]
          },
          "metadata": {},
          "execution_count": 6
        }
      ]
    },
    {
      "cell_type": "code",
      "source": [
        "# выведем максимальный элемент (последний) начиная с начала\n",
        "a[8]"
      ],
      "metadata": {
        "colab": {
          "base_uri": "https://localhost:8080/"
        },
        "id": "E63VtKq3V6B9",
        "outputId": "e700f5b4-4a70-42e2-800c-7bc8a0805df7"
      },
      "execution_count": 7,
      "outputs": [
        {
          "output_type": "execute_result",
          "data": {
            "text/plain": [
              "8"
            ]
          },
          "metadata": {},
          "execution_count": 7
        }
      ]
    },
    {
      "cell_type": "code",
      "source": [
        "# при этом a[-8] это будет не начальный элемент, так как отчет с конца начинается с -1\n",
        "a[-8]"
      ],
      "metadata": {
        "colab": {
          "base_uri": "https://localhost:8080/"
        },
        "id": "VUbNY1YYWpfN",
        "outputId": "2a1401fc-ebbe-4e87-d71d-f60eb803101c"
      },
      "execution_count": 8,
      "outputs": [
        {
          "output_type": "execute_result",
          "data": {
            "text/plain": [
              "20"
            ]
          },
          "metadata": {},
          "execution_count": 8
        }
      ]
    },
    {
      "cell_type": "code",
      "source": [
        "# обратимся к нулевому элементу, начиная с конца\n",
        "a[-9]"
      ],
      "metadata": {
        "colab": {
          "base_uri": "https://localhost:8080/"
        },
        "id": "rvcgbhJaW_R1",
        "outputId": "c2c5abbc-c978-4611-b2c0-5314bb2054a6"
      },
      "execution_count": 9,
      "outputs": [
        {
          "output_type": "execute_result",
          "data": {
            "text/plain": [
              "0"
            ]
          },
          "metadata": {},
          "execution_count": 9
        }
      ]
    },
    {
      "cell_type": "code",
      "source": [
        "# при попытке вывести девятый элемент мы должны увидеть ошибку, так как вышли за границы массива\n",
        "a[9]"
      ],
      "metadata": {
        "colab": {
          "base_uri": "https://localhost:8080/",
          "height": 162
        },
        "id": "HyHVkFKqWO0o",
        "outputId": "c5b92393-f43a-4365-b0fb-ce50dfa6f107"
      },
      "execution_count": 10,
      "outputs": [
        {
          "output_type": "error",
          "ename": "IndexError",
          "evalue": "index 9 is out of bounds for axis 0 with size 9",
          "traceback": [
            "\u001b[0;31m---------------------------------------------------------------------------\u001b[0m",
            "\u001b[0;31mIndexError\u001b[0m                                Traceback (most recent call last)",
            "\u001b[0;32m<ipython-input-10-a926b0536e8e>\u001b[0m in \u001b[0;36m<cell line: 2>\u001b[0;34m()\u001b[0m\n\u001b[1;32m      1\u001b[0m \u001b[0;31m# при попытке вывести девятый элемент мы должны увидеть ошибку, так как вышли за границы массива\u001b[0m\u001b[0;34m\u001b[0m\u001b[0;34m\u001b[0m\u001b[0m\n\u001b[0;32m----> 2\u001b[0;31m \u001b[0ma\u001b[0m\u001b[0;34m[\u001b[0m\u001b[0;36m9\u001b[0m\u001b[0;34m]\u001b[0m\u001b[0;34m\u001b[0m\u001b[0;34m\u001b[0m\u001b[0m\n\u001b[0m",
            "\u001b[0;31mIndexError\u001b[0m: index 9 is out of bounds for axis 0 with size 9"
          ]
        }
      ]
    },
    {
      "cell_type": "code",
      "source": [
        "# аналогично при выход за пределы в отрицательную сторону мы увидем ошибку\n",
        "a[-10]"
      ],
      "metadata": {
        "id": "ndCzIe03W6GO"
      },
      "execution_count": null,
      "outputs": []
    },
    {
      "cell_type": "markdown",
      "source": [
        "Как мы поняли, работа с одномерными массивами в numpy такая же, как и с одномерными списками в python. А вот в работе с многомерными массивами numpy уже есть свои нюансы (отличия).\n"
      ],
      "metadata": {
        "id": "IcuFWC6nYpuK"
      }
    },
    {
      "cell_type": "code",
      "source": [
        "# создадим двумерный массив b\n",
        "b = np.array([[0,1,2,3,4], [5,6,7,8,9], [10,11,12,13,14]])\n",
        "b"
      ],
      "metadata": {
        "colab": {
          "base_uri": "https://localhost:8080/"
        },
        "id": "HTi2wtlDXYsQ",
        "outputId": "925e51ec-1ca0-4f0f-ee3a-e68c283b2500"
      },
      "execution_count": 12,
      "outputs": [
        {
          "output_type": "execute_result",
          "data": {
            "text/plain": [
              "array([[ 0,  1,  2,  3,  4],\n",
              "       [ 5,  6,  7,  8,  9],\n",
              "       [10, 11, 12, 13, 14]])"
            ]
          },
          "metadata": {},
          "execution_count": 12
        }
      ]
    },
    {
      "cell_type": "code",
      "source": [
        "# так мы можем обратиться к элемену, что находится во 2 строке на 3ем месте\n",
        "# но так как отсчет начинается с 0, то в numpy нам понадобится обратиться к 1 строке и 2ому элементу для этого\n",
        "b[1, 2]"
      ],
      "metadata": {
        "colab": {
          "base_uri": "https://localhost:8080/"
        },
        "id": "APMiaubEZGAF",
        "outputId": "fb516714-cab3-43fb-8661-b2edc876c0b0"
      },
      "execution_count": 13,
      "outputs": [
        {
          "output_type": "execute_result",
          "data": {
            "text/plain": [
              "7"
            ]
          },
          "metadata": {},
          "execution_count": 13
        }
      ]
    },
    {
      "cell_type": "code",
      "source": [
        "# выведем размерность массива b\n",
        "b.shape"
      ],
      "metadata": {
        "colab": {
          "base_uri": "https://localhost:8080/"
        },
        "id": "vluR96K1aFLH",
        "outputId": "3ad2372b-7d90-475f-d545-7e730904f94e"
      },
      "execution_count": 14,
      "outputs": [
        {
          "output_type": "execute_result",
          "data": {
            "text/plain": [
              "(3, 5)"
            ]
          },
          "metadata": {},
          "execution_count": 14
        }
      ]
    },
    {
      "cell_type": "code",
      "source": [
        "# если при обращении к массиву мы указываем меньше индексов, чем размерность самого массива\n",
        "# то вместо конкретного элемента последнего (недостоющего индекса) будет выведена вся строка, ниже пример\n",
        "b[1]"
      ],
      "metadata": {
        "colab": {
          "base_uri": "https://localhost:8080/"
        },
        "id": "AsrP9jl-aeDf",
        "outputId": "a76e7953-1b6c-493b-cc33-6f930ed6251b"
      },
      "execution_count": 15,
      "outputs": [
        {
          "output_type": "execute_result",
          "data": {
            "text/plain": [
              "array([5, 6, 7, 8, 9])"
            ]
          },
          "metadata": {},
          "execution_count": 15
        }
      ]
    },
    {
      "cell_type": "code",
      "source": [
        "# также, если мы хотим обратиться к конкретному элементу двумерного массива, мы это можем сделать таким способом\n",
        "b[1][2] # так работает индексация в многомерных списках python, она работает и здесь в numpy\n",
        "b[1, 2] # но такой способ обращения к элементу предпочтительнее, так как действие выполняется единожды\n"
      ],
      "metadata": {
        "colab": {
          "base_uri": "https://localhost:8080/"
        },
        "id": "UU5AF_RQd91B",
        "outputId": "33c819f3-fa73-4c69-9651-96c78d34444a"
      },
      "execution_count": 16,
      "outputs": [
        {
          "output_type": "execute_result",
          "data": {
            "text/plain": [
              "7"
            ]
          },
          "metadata": {},
          "execution_count": 16
        }
      ]
    },
    {
      "cell_type": "code",
      "source": [
        "# при помощи такой индексации мы можем и менять значение конкретного элемента\n",
        "b[1, 2] = 70\n",
        "b"
      ],
      "metadata": {
        "colab": {
          "base_uri": "https://localhost:8080/"
        },
        "id": "Gcz0RosZfIAQ",
        "outputId": "e6191c2f-5c35-45e6-d0ef-c623f36a2f7d"
      },
      "execution_count": 17,
      "outputs": [
        {
          "output_type": "execute_result",
          "data": {
            "text/plain": [
              "array([[ 0,  1,  2,  3,  4],\n",
              "       [ 5,  6, 70,  8,  9],\n",
              "       [10, 11, 12, 13, 14]])"
            ]
          },
          "metadata": {},
          "execution_count": 17
        }
      ]
    },
    {
      "cell_type": "code",
      "source": [
        "# также можно обратиться к конкретному элементу через кортеж\n",
        "i = (2, 3)\n",
        "b[i] # аргумент индексации"
      ],
      "metadata": {
        "colab": {
          "base_uri": "https://localhost:8080/"
        },
        "id": "-Dw-Thw3gE45",
        "outputId": "15edd70a-15dc-4157-b192-0914e1102b35"
      },
      "execution_count": 18,
      "outputs": [
        {
          "output_type": "execute_result",
          "data": {
            "text/plain": [
              "13"
            ]
          },
          "metadata": {},
          "execution_count": 18
        }
      ]
    },
    {
      "cell_type": "markdown",
      "source": [
        "Срезы numpy"
      ],
      "metadata": {
        "id": "11C9cWwGg6y3"
      }
    },
    {
      "cell_type": "code",
      "source": [
        "b"
      ],
      "metadata": {
        "colab": {
          "base_uri": "https://localhost:8080/"
        },
        "id": "GRDagYsfg_id",
        "outputId": "641f3870-61f4-4eaa-d61b-15697c1deb64"
      },
      "execution_count": 19,
      "outputs": [
        {
          "output_type": "execute_result",
          "data": {
            "text/plain": [
              "array([[ 0,  1,  2,  3,  4],\n",
              "       [ 5,  6, 70,  8,  9],\n",
              "       [10, 11, 12, 13, 14]])"
            ]
          },
          "metadata": {},
          "execution_count": 19
        }
      ]
    },
    {
      "cell_type": "code",
      "source": [
        "b.shape"
      ],
      "metadata": {
        "colab": {
          "base_uri": "https://localhost:8080/"
        },
        "id": "zhqCB1THhC47",
        "outputId": "093d300c-c5c8-4f57-9a41-065d706d381f"
      },
      "execution_count": 20,
      "outputs": [
        {
          "output_type": "execute_result",
          "data": {
            "text/plain": [
              "(3, 5)"
            ]
          },
          "metadata": {},
          "execution_count": 20
        }
      ]
    },
    {
      "cell_type": "code",
      "source": [
        "# обратимся к строке с индексом 1\n",
        "b[1, :]\n",
        "b[1]\n",
        "# это в данном случае идентичные записи"
      ],
      "metadata": {
        "colab": {
          "base_uri": "https://localhost:8080/"
        },
        "id": "HP2zPJa_hNYa",
        "outputId": "68684de4-a561-42ea-cccb-7c3b8c7d589c"
      },
      "execution_count": 21,
      "outputs": [
        {
          "output_type": "execute_result",
          "data": {
            "text/plain": [
              "array([ 5,  6, 70,  8,  9])"
            ]
          },
          "metadata": {},
          "execution_count": 21
        }
      ]
    },
    {
      "cell_type": "code",
      "source": [
        "# срез без определенных границ позволяет получать проекцию по любым осям\n",
        "b[:, 1] # в данном случае вывели все строки столбца с индексом 1"
      ],
      "metadata": {
        "colab": {
          "base_uri": "https://localhost:8080/"
        },
        "id": "QDqz8hC7h4pS",
        "outputId": "a90c8064-2468-4a69-91b5-45651b2090bf"
      },
      "execution_count": 22,
      "outputs": [
        {
          "output_type": "execute_result",
          "data": {
            "text/plain": [
              "array([ 1,  6, 11])"
            ]
          },
          "metadata": {},
          "execution_count": 22
        }
      ]
    },
    {
      "cell_type": "code",
      "source": [
        "# сделаем срез двух первых строк и всех столбцов массива b\n",
        "b[0:2, :] # поним о том, что при указании среза правая граница не включается\n",
        "# тоесть на вывод идут строки с индексами 0, 1 (строка с индексом 2 погнаничная и не включается)"
      ],
      "metadata": {
        "colab": {
          "base_uri": "https://localhost:8080/"
        },
        "id": "wVHC3ao0kT6i",
        "outputId": "52a8097c-a846-4ba7-9fde-7c2af2fa0f57"
      },
      "execution_count": 23,
      "outputs": [
        {
          "output_type": "execute_result",
          "data": {
            "text/plain": [
              "array([[ 0,  1,  2,  3,  4],\n",
              "       [ 5,  6, 70,  8,  9]])"
            ]
          },
          "metadata": {},
          "execution_count": 23
        }
      ]
    },
    {
      "cell_type": "code",
      "source": [
        "# выведем нижнюю строчку начиная со второго столбца\n",
        "b[2, 1:]"
      ],
      "metadata": {
        "colab": {
          "base_uri": "https://localhost:8080/"
        },
        "id": "MZdFQgEblHMC",
        "outputId": "80930c8e-fcf7-4659-8fa3-2c6a44473842"
      },
      "execution_count": 24,
      "outputs": [
        {
          "output_type": "execute_result",
          "data": {
            "text/plain": [
              "array([11, 12, 13, 14])"
            ]
          },
          "metadata": {},
          "execution_count": 24
        }
      ]
    },
    {
      "cell_type": "code",
      "source": [
        "# выведем первые две строчки в 3 и 4 столбцах\n",
        "b[:2, 2:4]"
      ],
      "metadata": {
        "colab": {
          "base_uri": "https://localhost:8080/"
        },
        "id": "7XaAqxT5lZ1r",
        "outputId": "39befb13-274d-41aa-8e71-8df51258ba8f"
      },
      "execution_count": 25,
      "outputs": [
        {
          "output_type": "execute_result",
          "data": {
            "text/plain": [
              "array([[ 2,  3],\n",
              "       [70,  8]])"
            ]
          },
          "metadata": {},
          "execution_count": 25
        }
      ]
    },
    {
      "cell_type": "code",
      "source": [
        "# веведем столбцы через один, начиная с первого; сделать это можно задав шаг 2\n",
        "b[:, ::2]"
      ],
      "metadata": {
        "colab": {
          "base_uri": "https://localhost:8080/"
        },
        "id": "wuLTsXAPmimm",
        "outputId": "7f37f3cf-6f86-4169-bc42-cdee7d5c4ca0"
      },
      "execution_count": 26,
      "outputs": [
        {
          "output_type": "execute_result",
          "data": {
            "text/plain": [
              "array([[ 0,  2,  4],\n",
              "       [ 5, 70,  9],\n",
              "       [10, 12, 14]])"
            ]
          },
          "metadata": {},
          "execution_count": 26
        }
      ]
    },
    {
      "cell_type": "code",
      "source": [
        "# срезы, взятые с какого-то массива также можно присвоить в другую переменную\n",
        "b_s2 = b[::2, ::3]\n",
        "b_s2"
      ],
      "metadata": {
        "colab": {
          "base_uri": "https://localhost:8080/"
        },
        "id": "H3TJuepMnwuk",
        "outputId": "dda2ff05-772d-4a9a-8c12-7f88d739c3ab"
      },
      "execution_count": 27,
      "outputs": [
        {
          "output_type": "execute_result",
          "data": {
            "text/plain": [
              "array([[ 0,  3],\n",
              "       [10, 13]])"
            ]
          },
          "metadata": {},
          "execution_count": 27
        }
      ]
    },
    {
      "cell_type": "markdown",
      "source": [
        "При получении среза массива создается объект-предстваление (array view), работая с данными исходного массива, определяя для него специальный порядок обхода элементов."
      ],
      "metadata": {
        "id": "dKSBQ5s1Hb5z"
      }
    },
    {
      "cell_type": "code",
      "source": [
        "# опеределение, содержит ли объект данные или является представлением данных другого объекта\n",
        "b.flags.owndata, b_s2.flags.owndata # b_s2 показал False, так как это срез с массива b"
      ],
      "metadata": {
        "id": "aNOSmJp0Hy5g",
        "colab": {
          "base_uri": "https://localhost:8080/"
        },
        "outputId": "1ac5c307-8b0a-49da-e2d2-f7b214feb5b7"
      },
      "execution_count": 28,
      "outputs": [
        {
          "output_type": "execute_result",
          "data": {
            "text/plain": [
              "(True, False)"
            ]
          },
          "metadata": {},
          "execution_count": 28
        }
      ]
    },
    {
      "cell_type": "code",
      "source": [
        "b_s2[0, 0]"
      ],
      "metadata": {
        "colab": {
          "base_uri": "https://localhost:8080/"
        },
        "id": "ttdBFFkKJixK",
        "outputId": "d94be826-de0b-4d55-f1e4-3ed17a60601d"
      },
      "execution_count": 29,
      "outputs": [
        {
          "output_type": "execute_result",
          "data": {
            "text/plain": [
              "0"
            ]
          },
          "metadata": {},
          "execution_count": 29
        }
      ]
    },
    {
      "cell_type": "code",
      "source": [
        "b_s2[0, 0] = 10 # меняем левый верхний элемент среза на 10"
      ],
      "metadata": {
        "id": "VORIDsaEKY9E"
      },
      "execution_count": 30,
      "outputs": []
    },
    {
      "cell_type": "code",
      "source": [
        "b_s2[0, 0]"
      ],
      "metadata": {
        "colab": {
          "base_uri": "https://localhost:8080/"
        },
        "id": "Qc38z60BK6Wt",
        "outputId": "094382b6-ecae-4fa1-fb9d-b8a0a49a577e"
      },
      "execution_count": 32,
      "outputs": [
        {
          "output_type": "execute_result",
          "data": {
            "text/plain": [
              "10"
            ]
          },
          "metadata": {},
          "execution_count": 32
        }
      ]
    },
    {
      "cell_type": "code",
      "source": [
        "b # как мы можем убедиться в исходном массиве данный элемент также изменился"
      ],
      "metadata": {
        "colab": {
          "base_uri": "https://localhost:8080/"
        },
        "id": "c1-wWyoqLVTB",
        "outputId": "59576252-1fac-41b3-a9e1-8adb466df0f5"
      },
      "execution_count": 34,
      "outputs": [
        {
          "output_type": "execute_result",
          "data": {
            "text/plain": [
              "array([[10,  1,  2,  3,  4],\n",
              "       [ 5,  6, 70,  8,  9],\n",
              "       [10, 11, 12, 13, 14]])"
            ]
          },
          "metadata": {},
          "execution_count": 34
        }
      ]
    },
    {
      "cell_type": "code",
      "source": [
        "# чтобы значение исходного массива не нарушалось, можно исходный массив скопировать в другую переменную\n",
        "# использую специальный инструмент\n",
        "b2 = b.copy()\n",
        "b2"
      ],
      "metadata": {
        "colab": {
          "base_uri": "https://localhost:8080/"
        },
        "id": "KH3Tj-7QMPf4",
        "outputId": "df4d9ab8-e7f2-4b01-8eb5-c20aa058a706"
      },
      "execution_count": 35,
      "outputs": [
        {
          "output_type": "execute_result",
          "data": {
            "text/plain": [
              "array([[10,  1,  2,  3,  4],\n",
              "       [ 5,  6, 70,  8,  9],\n",
              "       [10, 11, 12, 13, 14]])"
            ]
          },
          "metadata": {},
          "execution_count": 35
        }
      ]
    },
    {
      "cell_type": "code",
      "source": [
        "b2[::2, ::3]"
      ],
      "metadata": {
        "colab": {
          "base_uri": "https://localhost:8080/"
        },
        "id": "8W2oV2YPMx4_",
        "outputId": "f15a4bf9-dc2e-4998-f49d-ec8077febe57"
      },
      "execution_count": 36,
      "outputs": [
        {
          "output_type": "execute_result",
          "data": {
            "text/plain": [
              "array([[10,  3],\n",
              "       [10, 13]])"
            ]
          },
          "metadata": {},
          "execution_count": 36
        }
      ]
    },
    {
      "cell_type": "code",
      "source": [
        "b2[::2, ::3] = [[-1, -2], [-4, -5]] # присвоенеие срезу многомерной структуры совпадающей размерности\n",
        "b2"
      ],
      "metadata": {
        "colab": {
          "base_uri": "https://localhost:8080/"
        },
        "id": "Vf_UeMTpNElr",
        "outputId": "33aabfbd-9e18-4fc5-c100-2615d22216e2"
      },
      "execution_count": 39,
      "outputs": [
        {
          "output_type": "execute_result",
          "data": {
            "text/plain": [
              "array([[-1,  1,  2, -2,  4],\n",
              "       [ 5,  6, 70,  8,  9],\n",
              "       [-4, 11, 12, -5, 14]])"
            ]
          },
          "metadata": {},
          "execution_count": 39
        }
      ]
    },
    {
      "cell_type": "code",
      "source": [
        "b2[2, 1:]"
      ],
      "metadata": {
        "colab": {
          "base_uri": "https://localhost:8080/"
        },
        "id": "PvNS9xVkNUMN",
        "outputId": "5cefed5b-8d26-4f91-f6d3-51a6dba69809"
      },
      "execution_count": 41,
      "outputs": [
        {
          "output_type": "execute_result",
          "data": {
            "text/plain": [
              "array([11, 12, -5, 14])"
            ]
          },
          "metadata": {},
          "execution_count": 41
        }
      ]
    },
    {
      "cell_type": "code",
      "source": [
        "b2[2, 1:] = 110 # присвоение среза скалярного значения за счет распространения\n",
        "b2 # заметим, что значение 110 присвоилось всей группе элементов их среза"
      ],
      "metadata": {
        "colab": {
          "base_uri": "https://localhost:8080/"
        },
        "id": "ZKdL7b89OU_s",
        "outputId": "f2d8da12-32c0-434c-b273-dac81301af44"
      },
      "execution_count": 43,
      "outputs": [
        {
          "output_type": "execute_result",
          "data": {
            "text/plain": [
              "array([[ -1,   1,   2,  -2,   4],\n",
              "       [  5,   6,  70,   8,   9],\n",
              "       [ -4, 110, 110, 110, 110]])"
            ]
          },
          "metadata": {},
          "execution_count": 43
        }
      ]
    },
    {
      "cell_type": "markdown",
      "source": [
        "Работа с функциями Numpy\n",
        "А именно работа с универсальными функциями"
      ],
      "metadata": {
        "id": "9y5Qy6JyO9XD"
      }
    },
    {
      "cell_type": "code",
      "source": [
        "b"
      ],
      "metadata": {
        "colab": {
          "base_uri": "https://localhost:8080/"
        },
        "id": "YkdJSpbePA3V",
        "outputId": "d9569c53-0793-48ac-bc9e-d1de3cc6f576"
      },
      "execution_count": 44,
      "outputs": [
        {
          "output_type": "execute_result",
          "data": {
            "text/plain": [
              "array([[10,  1,  2,  3,  4],\n",
              "       [ 5,  6, 70,  8,  9],\n",
              "       [10, 11, 12, 13, 14]])"
            ]
          },
          "metadata": {},
          "execution_count": 44
        }
      ]
    },
    {
      "cell_type": "code",
      "source": [
        "b < 7 # произошла проверка и вывод логического значения для каждого элемента массива"
      ],
      "metadata": {
        "colab": {
          "base_uri": "https://localhost:8080/"
        },
        "id": "JcisIQigPvsn",
        "outputId": "ead2a3c8-9ecc-44d2-d46b-dde67f4d90b2"
      },
      "execution_count": 47,
      "outputs": [
        {
          "output_type": "execute_result",
          "data": {
            "text/plain": [
              "array([[False,  True,  True,  True,  True],\n",
              "       [ True,  True, False, False, False],\n",
              "       [False, False, False, False, False]])"
            ]
          },
          "metadata": {},
          "execution_count": 47
        }
      ]
    },
    {
      "cell_type": "code",
      "source": [
        "(3 < b) & (b < 7) # аналогично проверка и совмещение конъюнкцией"
      ],
      "metadata": {
        "colab": {
          "base_uri": "https://localhost:8080/"
        },
        "id": "wH5XR1_uPxff",
        "outputId": "b82805fe-0369-4377-f18d-08f59e132c9e"
      },
      "execution_count": 48,
      "outputs": [
        {
          "output_type": "execute_result",
          "data": {
            "text/plain": [
              "array([[False, False, False, False,  True],\n",
              "       [ True,  True, False, False, False],\n",
              "       [False, False, False, False, False]])"
            ]
          },
          "metadata": {},
          "execution_count": 48
        }
      ]
    },
    {
      "cell_type": "code",
      "source": [
        "b + 10 # операция происходит над каждым элементом массива"
      ],
      "metadata": {
        "colab": {
          "base_uri": "https://localhost:8080/"
        },
        "id": "B3AZ6QnzP-nm",
        "outputId": "b6df576c-bc87-4c26-a424-acadbfdf087d"
      },
      "execution_count": 50,
      "outputs": [
        {
          "output_type": "execute_result",
          "data": {
            "text/plain": [
              "array([[20, 11, 12, 13, 14],\n",
              "       [15, 16, 80, 18, 19],\n",
              "       [20, 21, 22, 23, 24]])"
            ]
          },
          "metadata": {},
          "execution_count": 50
        }
      ]
    },
    {
      "cell_type": "code",
      "source": [
        "b * 10 # аналогично с умножением"
      ],
      "metadata": {
        "colab": {
          "base_uri": "https://localhost:8080/"
        },
        "id": "mis_7q_HQgbu",
        "outputId": "e9cb4a1d-38a2-4209-a537-785d041b20d6"
      },
      "execution_count": 51,
      "outputs": [
        {
          "output_type": "execute_result",
          "data": {
            "text/plain": [
              "array([[100,  10,  20,  30,  40],\n",
              "       [ 50,  60, 700,  80,  90],\n",
              "       [100, 110, 120, 130, 140]])"
            ]
          },
          "metadata": {},
          "execution_count": 51
        }
      ]
    },
    {
      "cell_type": "code",
      "source": [
        "b + b # тут каждый элемент матрицы b складывается соответственно с каждым элементом матрицы b"
      ],
      "metadata": {
        "colab": {
          "base_uri": "https://localhost:8080/"
        },
        "id": "soL5q2gdQtBL",
        "outputId": "ed73b061-72e2-4fa8-9aa2-85a57df57b74"
      },
      "execution_count": 52,
      "outputs": [
        {
          "output_type": "execute_result",
          "data": {
            "text/plain": [
              "array([[ 20,   2,   4,   6,   8],\n",
              "       [ 10,  12, 140,  16,  18],\n",
              "       [ 20,  22,  24,  26,  28]])"
            ]
          },
          "metadata": {},
          "execution_count": 52
        }
      ]
    },
    {
      "cell_type": "code",
      "source": [
        "b * b # аналогично с умножением (это именно поэлементное умножение, это НЕ матричное умножение)"
      ],
      "metadata": {
        "colab": {
          "base_uri": "https://localhost:8080/"
        },
        "id": "kQBwF73YQ7mc",
        "outputId": "b9220b88-6acb-4704-e4ea-8a31cd5884d2"
      },
      "execution_count": 54,
      "outputs": [
        {
          "output_type": "execute_result",
          "data": {
            "text/plain": [
              "array([[ 100,    1,    4,    9,   16],\n",
              "       [  25,   36, 4900,   64,   81],\n",
              "       [ 100,  121,  144,  169,  196]])"
            ]
          },
          "metadata": {},
          "execution_count": 54
        }
      ]
    },
    {
      "cell_type": "code",
      "source": [
        "np.exp(b) # возведение экспоненты в степень b (экспонента возводится в степень каждого элемента b)"
      ],
      "metadata": {
        "colab": {
          "base_uri": "https://localhost:8080/"
        },
        "id": "pzeM8JK3Q_Qr",
        "outputId": "8036b62e-6a20-4120-8c40-36b96e319867"
      },
      "execution_count": 56,
      "outputs": [
        {
          "output_type": "execute_result",
          "data": {
            "text/plain": [
              "array([[2.20264658e+04, 2.71828183e+00, 7.38905610e+00, 2.00855369e+01,\n",
              "        5.45981500e+01],\n",
              "       [1.48413159e+02, 4.03428793e+02, 2.51543867e+30, 2.98095799e+03,\n",
              "        8.10308393e+03],\n",
              "       [2.20264658e+04, 5.98741417e+04, 1.62754791e+05, 4.42413392e+05,\n",
              "        1.20260428e+06]])"
            ]
          },
          "metadata": {},
          "execution_count": 56
        }
      ]
    },
    {
      "cell_type": "code",
      "source": [
        "a0 = np.arange(5) # создадим массив от 0 до 4\n",
        "a0"
      ],
      "metadata": {
        "colab": {
          "base_uri": "https://localhost:8080/"
        },
        "id": "Nh2u046vSj8D",
        "outputId": "abc91de8-8ed2-4b17-e1f8-3feed2f64331"
      },
      "execution_count": 59,
      "outputs": [
        {
          "output_type": "execute_result",
          "data": {
            "text/plain": [
              "array([0, 1, 2, 3, 4])"
            ]
          },
          "metadata": {},
          "execution_count": 59
        }
      ]
    },
    {
      "cell_type": "code",
      "source": [
        "b0 = np.arange(0, 50, 10) # создадим другой массив от 0 до 40 вкл с шагом 10\n",
        "b0"
      ],
      "metadata": {
        "colab": {
          "base_uri": "https://localhost:8080/"
        },
        "id": "m7vqbov6SyIi",
        "outputId": "c47d2f25-8b0c-4124-cef0-e877f12ab6d5"
      },
      "execution_count": 63,
      "outputs": [
        {
          "output_type": "execute_result",
          "data": {
            "text/plain": [
              "array([ 0, 10, 20, 30, 40])"
            ]
          },
          "metadata": {},
          "execution_count": 63
        }
      ]
    },
    {
      "cell_type": "code",
      "source": [
        "c0 = a0 + b0 # сложим эти два массива (каждый элемент одного массива сложится с соотв. элементом другого)\n",
        "c0"
      ],
      "metadata": {
        "colab": {
          "base_uri": "https://localhost:8080/"
        },
        "id": "uRrNt2I5TD9X",
        "outputId": "b37c5d44-135e-4540-d344-45348621971c"
      },
      "execution_count": 64,
      "outputs": [
        {
          "output_type": "execute_result",
          "data": {
            "text/plain": [
              "array([ 0, 11, 22, 33, 44])"
            ]
          },
          "metadata": {},
          "execution_count": 64
        }
      ]
    },
    {
      "cell_type": "markdown",
      "source": [
        "Оси и агрегирующие функции"
      ],
      "metadata": {
        "id": "QT670v_eVQag"
      }
    },
    {
      "cell_type": "code",
      "source": [
        "# создадим массив 3х5\n",
        "ar1 = np.arange(15).reshape(3, 5)\n",
        "ar1"
      ],
      "metadata": {
        "colab": {
          "base_uri": "https://localhost:8080/"
        },
        "id": "DRXjtFluVVny",
        "outputId": "dfc5a907-e687-487c-bc33-b5988bdbba7a"
      },
      "execution_count": 66,
      "outputs": [
        {
          "output_type": "execute_result",
          "data": {
            "text/plain": [
              "array([[ 0,  1,  2,  3,  4],\n",
              "       [ 5,  6,  7,  8,  9],\n",
              "       [10, 11, 12, 13, 14]])"
            ]
          },
          "metadata": {},
          "execution_count": 66
        }
      ]
    },
    {
      "cell_type": "code",
      "source": [
        "ar1.shape"
      ],
      "metadata": {
        "colab": {
          "base_uri": "https://localhost:8080/"
        },
        "id": "hZszhwcxWEgc",
        "outputId": "c3640e73-6c3b-4327-f0b0-ed458cc15d2d"
      },
      "execution_count": 67,
      "outputs": [
        {
          "output_type": "execute_result",
          "data": {
            "text/plain": [
              "(3, 5)"
            ]
          },
          "metadata": {},
          "execution_count": 67
        }
      ]
    },
    {
      "cell_type": "code",
      "source": [
        "ar1.sum() # суммируем элементы массива"
      ],
      "metadata": {
        "colab": {
          "base_uri": "https://localhost:8080/"
        },
        "id": "AUP1ppN4WJDN",
        "outputId": "94a58ec2-85ef-49c1-bab7-2c434e560e7d"
      },
      "execution_count": 69,
      "outputs": [
        {
          "output_type": "execute_result",
          "data": {
            "text/plain": [
              "105"
            ]
          },
          "metadata": {},
          "execution_count": 69
        }
      ]
    },
    {
      "cell_type": "code",
      "source": [
        "ar1.sum(axis=None) # аналогично суммируем как и выше, заметим, что элемент axis по умолчанию None\n",
        "# axis показывает вдоль какой оси мы будем суммировать"
      ],
      "metadata": {
        "colab": {
          "base_uri": "https://localhost:8080/"
        },
        "id": "Nj9-5-UHWkV8",
        "outputId": "feefabfd-4db0-4c6c-f642-1f0f5cb74253"
      },
      "execution_count": 71,
      "outputs": [
        {
          "output_type": "execute_result",
          "data": {
            "text/plain": [
              "105"
            ]
          },
          "metadata": {},
          "execution_count": 71
        }
      ]
    },
    {
      "cell_type": "code",
      "source": [
        "# чтобы просуммировать постолбцам первое значение axis должно стоять 0\n",
        "ar1.sum(axis = 0)"
      ],
      "metadata": {
        "colab": {
          "base_uri": "https://localhost:8080/"
        },
        "id": "Lwe1GPR0Wp0I",
        "outputId": "89dde3ff-887e-4aa7-a301-ef80256d992b"
      },
      "execution_count": 72,
      "outputs": [
        {
          "output_type": "execute_result",
          "data": {
            "text/plain": [
              "array([15, 18, 21, 24, 27])"
            ]
          },
          "metadata": {},
          "execution_count": 72
        }
      ]
    },
    {
      "cell_type": "code",
      "source": [
        "ar1.sum(axis = 0).shape # проверямем форму данного среза"
      ],
      "metadata": {
        "colab": {
          "base_uri": "https://localhost:8080/"
        },
        "id": "h-ifdKLZX7KO",
        "outputId": "a20321aa-77ef-481d-e8b6-deebf35baf44"
      },
      "execution_count": 73,
      "outputs": [
        {
          "output_type": "execute_result",
          "data": {
            "text/plain": [
              "(5,)"
            ]
          },
          "metadata": {},
          "execution_count": 73
        }
      ]
    },
    {
      "cell_type": "code",
      "source": [
        "# чтобы проссумировать по строкам параметр axis должен принимать значение 1\n",
        "ar1.sum(axis = 1)"
      ],
      "metadata": {
        "colab": {
          "base_uri": "https://localhost:8080/"
        },
        "id": "e7aw6xYUYWUc",
        "outputId": "b824ca7c-2b10-4d86-f86c-a2bf94cd9aad"
      },
      "execution_count": 74,
      "outputs": [
        {
          "output_type": "execute_result",
          "data": {
            "text/plain": [
              "array([10, 35, 60])"
            ]
          },
          "metadata": {},
          "execution_count": 74
        }
      ]
    },
    {
      "cell_type": "markdown",
      "source": [
        "Линейная алгебра в Numpy"
      ],
      "metadata": {
        "id": "3Q2eP_8YZHJ0"
      }
    },
    {
      "cell_type": "code",
      "source": [
        "# создадим массив\n",
        "e = np.array([[0, 1, 2, 3, 4],\n",
        "             [10, 11, 12, 13, 14],\n",
        "             [20, 21, 22, 23, 24],\n",
        "             [30, 31, 32, 33, 34],\n",
        "             [40, 41, 42, 43, 44]])"
      ],
      "metadata": {
        "id": "8RKXuy0sZNLk"
      },
      "execution_count": 78,
      "outputs": []
    },
    {
      "cell_type": "code",
      "source": [
        "e * 10"
      ],
      "metadata": {
        "colab": {
          "base_uri": "https://localhost:8080/"
        },
        "id": "_c_bVl28aWnZ",
        "outputId": "82186dd7-24ee-4508-ead9-14aff4c18f18"
      },
      "execution_count": 79,
      "outputs": [
        {
          "output_type": "execute_result",
          "data": {
            "text/plain": [
              "array([[  0,  10,  20,  30,  40],\n",
              "       [100, 110, 120, 130, 140],\n",
              "       [200, 210, 220, 230, 240],\n",
              "       [300, 310, 320, 330, 340],\n",
              "       [400, 410, 420, 430, 440]])"
            ]
          },
          "metadata": {},
          "execution_count": 79
        }
      ]
    },
    {
      "cell_type": "code",
      "source": [
        "e * e"
      ],
      "metadata": {
        "colab": {
          "base_uri": "https://localhost:8080/"
        },
        "id": "1d6JURhwaYIg",
        "outputId": "3c8e01d1-0353-493e-e19f-1b948386f00b"
      },
      "execution_count": 80,
      "outputs": [
        {
          "output_type": "execute_result",
          "data": {
            "text/plain": [
              "array([[   0,    1,    4,    9,   16],\n",
              "       [ 100,  121,  144,  169,  196],\n",
              "       [ 400,  441,  484,  529,  576],\n",
              "       [ 900,  961, 1024, 1089, 1156],\n",
              "       [1600, 1681, 1764, 1849, 1936]])"
            ]
          },
          "metadata": {},
          "execution_count": 80
        }
      ]
    },
    {
      "cell_type": "code",
      "source": [
        "e / 2 # можем поэлемнтно делить"
      ],
      "metadata": {
        "colab": {
          "base_uri": "https://localhost:8080/"
        },
        "id": "m5GevlTUacVe",
        "outputId": "17d77fe1-ee60-4a5c-e532-9a358d3494f2"
      },
      "execution_count": 81,
      "outputs": [
        {
          "output_type": "execute_result",
          "data": {
            "text/plain": [
              "array([[ 0. ,  0.5,  1. ,  1.5,  2. ],\n",
              "       [ 5. ,  5.5,  6. ,  6.5,  7. ],\n",
              "       [10. , 10.5, 11. , 11.5, 12. ],\n",
              "       [15. , 15.5, 16. , 16.5, 17. ],\n",
              "       [20. , 20.5, 21. , 21.5, 22. ]])"
            ]
          },
          "metadata": {},
          "execution_count": 81
        }
      ]
    },
    {
      "cell_type": "code",
      "source": [
        "# создадим 2 марицы 3х3 и 3х2 размерностью\n",
        "m1 = np.arange(9).reshape(3, 3)\n",
        "m2 = np.arange(6).reshape(3, 2)\n",
        "print(m1)\n",
        "print(m2)"
      ],
      "metadata": {
        "colab": {
          "base_uri": "https://localhost:8080/"
        },
        "id": "7e-OW4rVbLy4",
        "outputId": "57389291-4a94-4520-c17f-c99733feaef7"
      },
      "execution_count": 84,
      "outputs": [
        {
          "output_type": "stream",
          "name": "stdout",
          "text": [
            "[[0 1 2]\n",
            " [3 4 5]\n",
            " [6 7 8]]\n",
            "[[0 1]\n",
            " [2 3]\n",
            " [4 5]]\n"
          ]
        }
      ]
    },
    {
      "cell_type": "code",
      "source": [
        "# теперь перемножим использую матричное умножение\n",
        "# (чтобы оно было возможно - кол-во столбцов первой матрицы, должно быть равно кол-ву строк второй матрицы)\n",
        "m3 = np.dot(m1, m2)\n",
        "m3"
      ],
      "metadata": {
        "colab": {
          "base_uri": "https://localhost:8080/"
        },
        "id": "WHn-BPW21yjk",
        "outputId": "2594cfff-d2c5-42b1-a45d-7085e83757c9"
      },
      "execution_count": 87,
      "outputs": [
        {
          "output_type": "execute_result",
          "data": {
            "text/plain": [
              "array([[10, 13],\n",
              "       [28, 40],\n",
              "       [46, 67]])"
            ]
          },
          "metadata": {},
          "execution_count": 87
        }
      ]
    },
    {
      "cell_type": "code",
      "source": [
        "m1.shape, m2.shape, m3.shape"
      ],
      "metadata": {
        "colab": {
          "base_uri": "https://localhost:8080/"
        },
        "id": "w9ZyDWFq2e0c",
        "outputId": "88dfc036-fdd6-46bf-e019-8e4e462d9f3b"
      },
      "execution_count": 88,
      "outputs": [
        {
          "output_type": "execute_result",
          "data": {
            "text/plain": [
              "((3, 3), (3, 2), (3, 2))"
            ]
          },
          "metadata": {},
          "execution_count": 88
        }
      ]
    },
    {
      "cell_type": "code",
      "source": [
        "m1 @ m2 # бинарный оператор, аналогичный dot()"
      ],
      "metadata": {
        "colab": {
          "base_uri": "https://localhost:8080/"
        },
        "id": "O7ugciHH2kD7",
        "outputId": "71397a65-b59a-4c93-94da-355e7906f7a5"
      },
      "execution_count": 89,
      "outputs": [
        {
          "output_type": "execute_result",
          "data": {
            "text/plain": [
              "array([[10, 13],\n",
              "       [28, 40],\n",
              "       [46, 67]])"
            ]
          },
          "metadata": {},
          "execution_count": 89
        }
      ]
    },
    {
      "cell_type": "code",
      "source": [
        "m2"
      ],
      "metadata": {
        "colab": {
          "base_uri": "https://localhost:8080/"
        },
        "id": "dH-wFzta3kSu",
        "outputId": "45b9b2d5-49e9-495c-ac8e-9acb2f256483"
      },
      "execution_count": 90,
      "outputs": [
        {
          "output_type": "execute_result",
          "data": {
            "text/plain": [
              "array([[0, 1],\n",
              "       [2, 3],\n",
              "       [4, 5]])"
            ]
          },
          "metadata": {},
          "execution_count": 90
        }
      ]
    },
    {
      "cell_type": "code",
      "source": [
        "m2.T # транспонированная матрица m2"
      ],
      "metadata": {
        "colab": {
          "base_uri": "https://localhost:8080/"
        },
        "id": "WznU1UCk3lyO",
        "outputId": "8b82dd60-109b-41e8-83aa-7a9a96405fc2"
      },
      "execution_count": 91,
      "outputs": [
        {
          "output_type": "execute_result",
          "data": {
            "text/plain": [
              "array([[0, 2, 4],\n",
              "       [1, 3, 5]])"
            ]
          },
          "metadata": {},
          "execution_count": 91
        }
      ]
    },
    {
      "cell_type": "code",
      "source": [
        "m2_1 = m2[:, 1]\n",
        "m2_1, m2_1.shape # выводит в форме одномерного массива, а не столбца ВНИМАТЕЛЬНО"
      ],
      "metadata": {
        "colab": {
          "base_uri": "https://localhost:8080/"
        },
        "id": "bINYq3w432lT",
        "outputId": "57579d4f-1ae0-4fce-d28d-187e89fa1640"
      },
      "execution_count": 92,
      "outputs": [
        {
          "output_type": "execute_result",
          "data": {
            "text/plain": [
              "(array([1, 3, 5]), (3,))"
            ]
          },
          "metadata": {},
          "execution_count": 92
        }
      ]
    },
    {
      "cell_type": "code",
      "source": [
        "# попробуем полученный путем среза выше одномерный массив транспонировать и увидим, что вектор столбца не создается\n",
        "m2_1.T"
      ],
      "metadata": {
        "colab": {
          "base_uri": "https://localhost:8080/"
        },
        "id": "euA4uohj4PYV",
        "outputId": "ef2a58a9-799a-4dcd-d744-acaf172487b9"
      },
      "execution_count": 94,
      "outputs": [
        {
          "output_type": "execute_result",
          "data": {
            "text/plain": [
              "array([1, 3, 5])"
            ]
          },
          "metadata": {},
          "execution_count": 94
        }
      ]
    },
    {
      "cell_type": "code",
      "source": [
        "# если же нам все-таки нужно транспанировать одномерный массив в виде столбца, то делаем следующее\n",
        "m2_1l = m2_1[np.newaxis, :] # создаем \"матрицу-строку\", парметр newaxis создает новую ось\n",
        "print(m2_1l, m2_1l.shape, '\\n') # при выводе размерности мы видим, что это уже матрица с 1 строкой и 3 столбцами\n",
        "print(m2_1l.T, m2_1l.T.shape) # в таком виде она легко транспонируется"
      ],
      "metadata": {
        "colab": {
          "base_uri": "https://localhost:8080/"
        },
        "id": "qpIHRzCM56M6",
        "outputId": "a890ae36-a28a-40ca-9f8e-7943983ad63c"
      },
      "execution_count": 95,
      "outputs": [
        {
          "output_type": "stream",
          "name": "stdout",
          "text": [
            "[[1 3 5]] (1, 3) \n",
            "\n",
            "[[1]\n",
            " [3]\n",
            " [5]] (3, 1)\n"
          ]
        }
      ]
    },
    {
      "cell_type": "code",
      "source": [
        "m2_1[:, np.newaxis] # делаем \"матрицу-столбец\" напрямую (минуя этап транспонирования)"
      ],
      "metadata": {
        "colab": {
          "base_uri": "https://localhost:8080/"
        },
        "id": "rUR4ijY07u8L",
        "outputId": "849da3ce-57f6-49ab-9e2c-74f029d5c684"
      },
      "execution_count": 96,
      "outputs": [
        {
          "output_type": "execute_result",
          "data": {
            "text/plain": [
              "array([[1],\n",
              "       [3],\n",
              "       [5]])"
            ]
          },
          "metadata": {},
          "execution_count": 96
        }
      ]
    },
    {
      "cell_type": "code",
      "source": [
        "m1"
      ],
      "metadata": {
        "colab": {
          "base_uri": "https://localhost:8080/"
        },
        "id": "M0Q2u87X8qod",
        "outputId": "4ee1b99c-65d8-468a-d48f-5e606d225ed7"
      },
      "execution_count": 97,
      "outputs": [
        {
          "output_type": "execute_result",
          "data": {
            "text/plain": [
              "array([[0, 1, 2],\n",
              "       [3, 4, 5],\n",
              "       [6, 7, 8]])"
            ]
          },
          "metadata": {},
          "execution_count": 97
        }
      ]
    },
    {
      "cell_type": "code",
      "source": [
        "m2.T"
      ],
      "metadata": {
        "colab": {
          "base_uri": "https://localhost:8080/"
        },
        "id": "b-kHCUJq8t47",
        "outputId": "ee1eeff9-c074-44ff-ffb2-a4dd2cd6f9b8"
      },
      "execution_count": 98,
      "outputs": [
        {
          "output_type": "execute_result",
          "data": {
            "text/plain": [
              "array([[0, 2, 4],\n",
              "       [1, 3, 5]])"
            ]
          },
          "metadata": {},
          "execution_count": 98
        }
      ]
    },
    {
      "cell_type": "code",
      "source": [
        "m2.T @ m1"
      ],
      "metadata": {
        "colab": {
          "base_uri": "https://localhost:8080/"
        },
        "id": "xvi9U69g8vn-",
        "outputId": "a908949d-393c-4d39-c1b2-0aa1d7cb7ad9"
      },
      "execution_count": 99,
      "outputs": [
        {
          "output_type": "execute_result",
          "data": {
            "text/plain": [
              "array([[30, 36, 42],\n",
              "       [39, 48, 57]])"
            ]
          },
          "metadata": {},
          "execution_count": 99
        }
      ]
    },
    {
      "cell_type": "code",
      "source": [
        "# можем также найти определитель матрицы m1\n",
        "np.linalg.det(m1)"
      ],
      "metadata": {
        "colab": {
          "base_uri": "https://localhost:8080/"
        },
        "id": "cnIWbiil80ZA",
        "outputId": "78228386-fd6d-465c-d6df-7080527c058c"
      },
      "execution_count": 101,
      "outputs": [
        {
          "output_type": "execute_result",
          "data": {
            "text/plain": [
              "0.0"
            ]
          },
          "metadata": {},
          "execution_count": 101
        }
      ]
    },
    {
      "cell_type": "code",
      "source": [
        "m3 = np.array([[3, 7, 4], [11, 2, 9], [4, 11, 2]])\n",
        "m3"
      ],
      "metadata": {
        "colab": {
          "base_uri": "https://localhost:8080/"
        },
        "id": "DsfkauA99fQj",
        "outputId": "adad851c-07f6-49c7-9721-1644ff87909a"
      },
      "execution_count": 103,
      "outputs": [
        {
          "output_type": "execute_result",
          "data": {
            "text/plain": [
              "array([[ 3,  7,  4],\n",
              "       [11,  2,  9],\n",
              "       [ 4, 11,  2]])"
            ]
          },
          "metadata": {},
          "execution_count": 103
        }
      ]
    },
    {
      "cell_type": "code",
      "source": [
        "np.linalg.det(m3) # тут из-за округлений мы увидим не совсем точное число, если вычислять вручную, это будет 265 ровно\n"
      ],
      "metadata": {
        "colab": {
          "base_uri": "https://localhost:8080/"
        },
        "id": "GUyJjIVU90CV",
        "outputId": "90c7a239-97c2-4fc6-fecc-2c9260bfa2c9"
      },
      "execution_count": 105,
      "outputs": [
        {
          "output_type": "execute_result",
          "data": {
            "text/plain": [
              "265.00000000000017"
            ]
          },
          "metadata": {},
          "execution_count": 105
        }
      ]
    },
    {
      "cell_type": "code",
      "source": [
        "m3i = np.linalg.inv(m3) # получение обратной матрицы с помощью метода inv\n",
        "m3i"
      ],
      "metadata": {
        "colab": {
          "base_uri": "https://localhost:8080/"
        },
        "id": "UK4rGJpJ_wiH",
        "outputId": "dad77174-63de-4526-8119-6734c38b8fce"
      },
      "execution_count": 106,
      "outputs": [
        {
          "output_type": "execute_result",
          "data": {
            "text/plain": [
              "array([[-0.35849057,  0.11320755,  0.20754717],\n",
              "       [ 0.05283019, -0.03773585,  0.06415094],\n",
              "       [ 0.42641509, -0.01886792, -0.26792453]])"
            ]
          },
          "metadata": {},
          "execution_count": 106
        }
      ]
    },
    {
      "cell_type": "code",
      "source": [
        "# по идее если матрицу перемножить на обратную ей матрицу, то должна получиться единичная матрица\n",
        "# единичная - это такая, на главноей диагонали которой единицы, а остальные числа нули\n",
        "m3 @ m3i # на выводе мы видим, что на главной действительно едеиницы, но остальные числа не нули (виновато округление)"
      ],
      "metadata": {
        "colab": {
          "base_uri": "https://localhost:8080/"
        },
        "id": "FMY5Y2WNAKOO",
        "outputId": "0cbae09e-e584-4e94-f7db-d0a1ea82677f"
      },
      "execution_count": 108,
      "outputs": [
        {
          "output_type": "execute_result",
          "data": {
            "text/plain": [
              "array([[ 1.00000000e+00,  5.55111512e-17,  0.00000000e+00],\n",
              "       [ 1.66533454e-16,  1.00000000e+00, -2.22044605e-16],\n",
              "       [ 1.11022302e-16, -2.08166817e-17,  1.00000000e+00]])"
            ]
          },
          "metadata": {},
          "execution_count": 108
        }
      ]
    }
  ]
}